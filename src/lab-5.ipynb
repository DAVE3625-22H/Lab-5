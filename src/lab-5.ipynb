{
 "cells": [
  {
   "cell_type": "markdown",
   "metadata": {},
   "source": [
    "# Imports"
   ]
  },
  {
   "cell_type": "code",
   "execution_count": 38,
   "metadata": {},
   "outputs": [],
   "source": [
    "import pandas as pd\n",
    "import numpy as np\n",
    "import xgboost as xgb\n",
    "from sklearn.model_selection import train_test_split, cross_val_score\n",
    "from sklearn.metrics import f1_score, confusion_matrix, ConfusionMatrixDisplay\n",
    "import optuna as opt"
   ]
  },
  {
   "cell_type": "markdown",
   "metadata": {},
   "source": [
    "# Importing the data"
   ]
  },
  {
   "cell_type": "code",
   "execution_count": 8,
   "metadata": {},
   "outputs": [],
   "source": [
    "# Import the data in ./../data/"
   ]
  },
  {
   "cell_type": "markdown",
   "metadata": {},
   "source": [
    "# Data Exploration"
   ]
  },
  {
   "cell_type": "code",
   "execution_count": null,
   "metadata": {},
   "outputs": [],
   "source": [
    "# Use df.head and df.info to get a feel for the data"
   ]
  },
  {
   "cell_type": "markdown",
   "metadata": {},
   "source": [
    "# Categorically Encoding \"class\""
   ]
  },
  {
   "cell_type": "code",
   "execution_count": 9,
   "metadata": {},
   "outputs": [],
   "source": [
    "# Use pandas cat.codes to convert the categorical data to numerical data, this is because xgboost only accepts numerical data as \n",
    "# the input in classification problems."
   ]
  },
  {
   "cell_type": "code",
   "execution_count": 10,
   "metadata": {},
   "outputs": [],
   "source": [
    "# Define X and y"
   ]
  },
  {
   "cell_type": "markdown",
   "metadata": {},
   "source": [
    "# Train_test_split "
   ]
  },
  {
   "cell_type": "code",
   "execution_count": 1,
   "metadata": {},
   "outputs": [],
   "source": [
    "# Split the data into train and test sets with test_size=0.2 and random_state=42"
   ]
  },
  {
   "cell_type": "markdown",
   "metadata": {},
   "source": [
    "# Optuna hyperparameter optimalization with cross-validation"
   ]
  },
  {
   "cell_type": "code",
   "execution_count": 9,
   "metadata": {},
   "outputs": [
    {
     "ename": "SyntaxError",
     "evalue": "invalid syntax (790178509.py, line 14)",
     "output_type": "error",
     "traceback": [
      "\u001b[0;36m  Input \u001b[0;32mIn [9]\u001b[0;36m\u001b[0m\n\u001b[0;31m    model = xgb.?(**param)\u001b[0m\n\u001b[0m                ^\u001b[0m\n\u001b[0;31mSyntaxError\u001b[0m\u001b[0;31m:\u001b[0m invalid syntax\n"
     ]
    }
   ],
   "source": [
    "def objective(trial):\n",
    "    param = {\n",
    "            \"n_estimators\" : trial.suggest_int('n_estimators', 0, 1000),\n",
    "            'max_depth':trial.suggest_int('max_depth', 2, 25),\n",
    "            'reg_alpha':trial.suggest_int('reg_alpha', 0, 5),\n",
    "            'reg_lambda':trial.suggest_int('reg_lambda', 0, 5),\n",
    "            'min_child_weight':trial.suggest_int('min_child_weight', 0, 5),\n",
    "            'gamma':trial.suggest_int('gamma', 0, 5),\n",
    "            'learning_rate':trial.suggest_loguniform('learning_rate',0.005,0.5),\n",
    "            'colsample_bytree':trial.suggest_discrete_uniform('colsample_bytree',0.1,1,0.01),\n",
    "            'nthread' : -1\n",
    "        }\n",
    "\n",
    "    model = xgb.?(**param)\n",
    "    score = cross_val_score(?, ?, ?, cv=5, scoring='f1_macro')\n",
    "    return score.?\n",
    "\n"
   ]
  },
  {
   "cell_type": "code",
   "execution_count": 3,
   "metadata": {},
   "outputs": [
    {
     "ename": "SyntaxError",
     "evalue": "invalid syntax (3320903580.py, line 3)",
     "output_type": "error",
     "traceback": [
      "\u001b[0;36m  Input \u001b[0;32mIn [3]\u001b[0;36m\u001b[0m\n\u001b[0;31m    study =\u001b[0m\n\u001b[0m            ^\u001b[0m\n\u001b[0;31mSyntaxError\u001b[0m\u001b[0;31m:\u001b[0m invalid syntax\n"
     ]
    }
   ],
   "source": [
    "# Create a Optuna study object with .create_study() and set the direction to maximize, this is because we want to maximize the f1 score.\n",
    "# Then, run the study with .optimize() and pass the objective function and the number of trials as parameters.\n",
    "study = \n",
    "study."
   ]
  },
  {
   "cell_type": "markdown",
   "metadata": {},
   "source": [
    "# Using optuna hyperparams to make a model"
   ]
  },
  {
   "cell_type": "code",
   "execution_count": 4,
   "metadata": {},
   "outputs": [],
   "source": [
    "# Retrieve the best parameters from the study with .best_params\n",
    "# And create a XGBoost classifier with the best parameters, then fit the model with the training data"
   ]
  },
  {
   "cell_type": "markdown",
   "metadata": {},
   "source": [
    "# Using cross-validation to get an accurate score"
   ]
  },
  {
   "cell_type": "code",
   "execution_count": 6,
   "metadata": {},
   "outputs": [
    {
     "ename": "SyntaxError",
     "evalue": "invalid syntax (3585096085.py, line 6)",
     "output_type": "error",
     "traceback": [
      "\u001b[0;36m  Input \u001b[0;32mIn [6]\u001b[0;36m\u001b[0m\n\u001b[0;31m    scores = cross_val_score(?, ?, ?, cv=?, scoring=?)\u001b[0m\n\u001b[0m                             ^\u001b[0m\n\u001b[0;31mSyntaxError\u001b[0m\u001b[0;31m:\u001b[0m invalid syntax\n"
     ]
    }
   ],
   "source": [
    "# Use cross_val_score to get the cross validation score of the model with the training data.\n",
    "# Cross validation is a technique to evaluate the performance of a model on unseen data, it is done by splitting the data into \"k\" folds\n",
    "# and then training the model on \"k-1\" folds and testing it on the remaining fold. This is repeated \"k\" times and the average of the\n",
    "# scores is taken as the final score. This effectively means that the data is trained and validated on all of the data.\n",
    "# Run cross_val_score with 5 folds and scoring='f1_macro'\n",
    "\n",
    "scores = cross_val_score(?, ?, ?, cv=?, scoring=?)\n",
    "\n",
    "# Print the mean and standard deviation of the scores, this is a good way to evaluate the performance of the model."
   ]
  },
  {
   "cell_type": "markdown",
   "metadata": {},
   "source": [
    "# Predicting on the test set with the model"
   ]
  },
  {
   "cell_type": "code",
   "execution_count": 5,
   "metadata": {},
   "outputs": [],
   "source": [
    "# Predict the test data"
   ]
  },
  {
   "cell_type": "markdown",
   "metadata": {},
   "source": [
    "# Plot the feature importances"
   ]
  },
  {
   "cell_type": "code",
   "execution_count": 7,
   "metadata": {},
   "outputs": [
    {
     "ename": "SyntaxError",
     "evalue": "invalid syntax (4249416720.py, line 4)",
     "output_type": "error",
     "traceback": [
      "\u001b[0;36m  Input \u001b[0;32mIn [7]\u001b[0;36m\u001b[0m\n\u001b[0;31m    xgb.?\u001b[0m\n\u001b[0m        ^\u001b[0m\n\u001b[0;31mSyntaxError\u001b[0m\u001b[0;31m:\u001b[0m invalid syntax\n"
     ]
    }
   ],
   "source": [
    "# XGBoost has a built in function to plot the feature importance, use it to plot the feature importance of the model.\n",
    "# Feature importance shows how much each feature contributes to the model, this is a good way to see which features are important\n",
    "\n",
    "xgb.?"
   ]
  },
  {
   "cell_type": "markdown",
   "metadata": {},
   "source": [
    "# Plotting the confusion matrix"
   ]
  },
  {
   "cell_type": "code",
   "execution_count": 8,
   "metadata": {},
   "outputs": [
    {
     "ename": "SyntaxError",
     "evalue": "invalid syntax (3714684622.py, line 12)",
     "output_type": "error",
     "traceback": [
      "\u001b[0;36m  Input \u001b[0;32mIn [8]\u001b[0;36m\u001b[0m\n\u001b[0;31m    cm = ?(?, ?)\u001b[0m\n\u001b[0m         ^\u001b[0m\n\u001b[0;31mSyntaxError\u001b[0m\u001b[0;31m:\u001b[0m invalid syntax\n"
     ]
    }
   ],
   "source": [
    "# A confusion matrix is a table that is often used to describe the performance of a classification model (or \"classifier\") \n",
    "# on a set of test data for which the true values are known. The confusion matrix itself is relatively simple to understand,\n",
    "# but the related terminology can be confusing. The confusion matrix shows the ways in which your classification model is confused\n",
    "# when it makes predictions. It gives you insight not only into the errors being made by your classifier but more importantly\n",
    "# the types of errors that are being made.\n",
    "\n",
    "# Get the confusion matrix from sklearn.metric.confusion_metric and plot it with ConfusionMatrixDisplay\n",
    "# Make sure to include display_labels with the class names (HINT: model.classes_) to make the plot more readable\n",
    "\n",
    "\n",
    "\n",
    "cm = ?(?, ?)\n",
    "disp = ?(?=?, ?=?)\n",
    "\n",
    "disp.?(cmap='Blues')"
   ]
  },
  {
   "cell_type": "markdown",
   "metadata": {},
   "source": [
    "# Plot a tree from the model"
   ]
  },
  {
   "cell_type": "code",
   "execution_count": null,
   "metadata": {},
   "outputs": [],
   "source": [
    "# XGBoost is a tree based ensemble model, it is always a good idea to visualize the tree to see how the model is making the predictions.\n",
    "# Use xgb.to_graphviz to visualize the tree and save it as a png file."
   ]
  }
 ],
 "metadata": {
  "kernelspec": {
   "display_name": "Python 3.10.6 ('dave3625')",
   "language": "python",
   "name": "python3"
  },
  "language_info": {
   "codemirror_mode": {
    "name": "ipython",
    "version": 3
   },
   "file_extension": ".py",
   "mimetype": "text/x-python",
   "name": "python",
   "nbconvert_exporter": "python",
   "pygments_lexer": "ipython3",
   "version": "3.10.6"
  },
  "orig_nbformat": 4,
  "vscode": {
   "interpreter": {
    "hash": "b6954d34ae39c95f2c026ab2df983fd182df9261a6e88353faf06a10b3a28f65"
   }
  }
 },
 "nbformat": 4,
 "nbformat_minor": 2
}
